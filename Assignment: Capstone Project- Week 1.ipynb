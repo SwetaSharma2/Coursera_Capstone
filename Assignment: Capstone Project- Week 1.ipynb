{
    "nbformat_minor": 1, 
    "cells": [
        {
            "source": "## Problem Statement", 
            "cell_type": "markdown", 
            "metadata": {
                "collapsed": true
            }
        }, 
        {
            "source": "Toronto is one of the cities where a huge number of Asian population reside. And most of the time they would like to opt for an Asian restaurant for authentcate meal. Hence the Asian restuarants want to expand thair bussiness in this direction by making it easier for interested customers to search for an Asian restaurant in Tornto and need a recommendation system which can instantly suggest them with the list of Asian restaurants. \nThe problem statement is to recommend Asian restaurant list to the interested customers. \n\nTarget Audience: Asian customers\n\nStake holders: Asian restaurants in Toronto", 
            "cell_type": "markdown", 
            "metadata": {}
        }, 
        {
            "source": "## Data Section", 
            "cell_type": "markdown", 
            "metadata": {}
        }, 
        {
            "source": "We will use Foursquare location data, top tips, ratings, favourites, distances, user experience etc., to apply data science techniques in order to solve the above business problem.\n\nWe will leverage the recommender systems capabilities enabled by Foursquare and conduct the comparison of the data points between each location to derive appropriate recommendations.\n1. Get the Geo locations of all the restaurants in Tornto using \"geolocator.geocode\" i.e., convert the address into latitude and longitude.\n2. Perform a search with a specific key word = 'Asian Restaurant'\n3. Perform the GET request and examine the results using location id.\n4. Get the number of tips for each location\n5. Gather frequent user feedback and suggesions\n6. Explore the ratings of the restaurants\n7. Narrow down the venues of each restaurants and performe recommendations for the best 'Asian restaurant' for the customers.", 
            "cell_type": "markdown", 
            "metadata": {}
        }
    ], 
    "metadata": {
        "kernelspec": {
            "display_name": "Python 3.5", 
            "name": "python3", 
            "language": "python"
        }, 
        "language_info": {
            "mimetype": "text/x-python", 
            "nbconvert_exporter": "python", 
            "version": "3.5.5", 
            "name": "python", 
            "file_extension": ".py", 
            "pygments_lexer": "ipython3", 
            "codemirror_mode": {
                "version": 3, 
                "name": "ipython"
            }
        }
    }, 
    "nbformat": 4
}